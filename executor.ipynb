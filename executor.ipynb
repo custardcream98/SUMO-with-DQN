{
 "cells": [
  {
   "cell_type": "code",
   "execution_count": 1,
   "metadata": {},
   "outputs": [],
   "source": [
    "import ray\n",
    "from SumoEnv import SumoEnvironment\n",
    "from ray.rllib.agents import dqn\n",
    "from ray.tune.logger import pretty_print"
   ]
  },
  {
   "cell_type": "code",
   "execution_count": 2,
   "metadata": {},
   "outputs": [
    {
     "name": "stderr",
     "output_type": "stream",
     "text": [
      "2022-04-06 14:57:31,047\tINFO trainer.py:2141 -- Your framework setting is 'tf', meaning you are using static-graph mode. Set framework='tf2' to enable eager execution with tf2.x. You may also then want to set eager_tracing=True in order to reach similar execution speed as with static-graph mode.\n",
      "2022-04-06 14:57:31,048\tINFO simple_q.py:155 -- In multi-agent mode, policies will be optimized sequentially by the multi-GPU optimizer. Consider setting `simple_optimizer=True` if this doesn't work for you.\n",
      "2022-04-06 14:57:31,049\tINFO trainer.py:781 -- Current log_level is WARN. For more information, set 'log_level': 'INFO' / 'DEBUG' or use the -v and -vv flags.\n",
      "C:\\Users\\User\\.conda\\envs\\sumo\\lib\\site-packages\\gym\\spaces\\box.py:74: UserWarning: \u001b[33mWARN: Box bound precision lowered by casting to float32\u001b[0m\n",
      "  \"Box bound precision lowered by casting to {}\".format(self.dtype)\n"
     ]
    }
   ],
   "source": [
    "ray.init()\n",
    "\n",
    "trainer = dqn.DQNTrainer(env=SumoEnvironment)"
   ]
  },
  {
   "cell_type": "code",
   "execution_count": 3,
   "metadata": {},
   "outputs": [],
   "source": [
    "result = trainer.train()"
   ]
  },
  {
   "cell_type": "code",
   "execution_count": 4,
   "metadata": {},
   "outputs": [
    {
     "name": "stdout",
     "output_type": "stream",
     "text": [
      "dict_keys(['episode_reward_max', 'episode_reward_min', 'episode_reward_mean', 'episode_len_mean', 'episode_media', 'episodes_this_iter', 'policy_reward_min', 'policy_reward_max', 'policy_reward_mean', 'custom_metrics', 'hist_stats', 'sampler_perf', 'off_policy_estimator', 'num_healthy_workers', 'timesteps_total', 'timesteps_this_iter', 'agent_timesteps_total', 'timers', 'info', 'done', 'episodes_total', 'training_iteration', 'trial_id', 'experiment_id', 'date', 'timestamp', 'time_this_iter_s', 'time_total_s', 'pid', 'hostname', 'node_ip', 'config', 'time_since_restore', 'timesteps_since_restore', 'iterations_since_restore', 'perf'])\n"
     ]
    }
   ],
   "source": [
    "print(result.keys())"
   ]
  },
  {
   "cell_type": "code",
   "execution_count": 6,
   "metadata": {},
   "outputs": [
    {
     "data": {
      "text/plain": [
       "{'learner': {'default_policy': {'learner_stats': {'cur_lr': 0.0005000000237487257,\n",
       "    'mean_q': 0.5514801,\n",
       "    'min_q': -0.9121482,\n",
       "    'max_q': 1.6567417,\n",
       "    'mean_td_error': -0.35768697,\n",
       "    'model': {}},\n",
       "   'td_error': array([ 0.67012167,  0.63961196,  0.3625453 , -0.2066729 ,  0.11655849,\n",
       "          -0.19613779, -1.0370307 , -0.6022943 , -0.1117003 ,  1.297745  ,\n",
       "          -0.5371468 , -1.4382795 , -0.3361416 , -0.6644669 , -1.7868865 ,\n",
       "           0.01769572, -1.6918633 , -1.9408472 , -0.47550946,  0.43171632,\n",
       "           0.55033135, -0.7331232 ,  0.11074477, -0.00962943, -1.259335  ,\n",
       "          -0.50348765,  0.6969611 , -0.8067906 ,  0.03700429, -1.4777858 ,\n",
       "          -1.1878393 ,  0.6259493 ], dtype=float32),\n",
       "   'custom_metrics': {}}},\n",
       " 'num_steps_sampled': 1000,\n",
       " 'num_agent_steps_sampled': 1000,\n",
       " 'num_steps_trained': 32,\n",
       " 'num_steps_trained_this_iter': 32,\n",
       " 'num_agent_steps_trained': 32,\n",
       " 'last_target_update_ts': 1000,\n",
       " 'num_target_updates': 1}"
      ]
     },
     "execution_count": 6,
     "metadata": {},
     "output_type": "execute_result"
    }
   ],
   "source": [
    "result['info']"
   ]
  },
  {
   "cell_type": "code",
   "execution_count": null,
   "metadata": {},
   "outputs": [],
   "source": []
  }
 ],
 "metadata": {
  "interpreter": {
   "hash": "b3ba2566441a7c06988d0923437866b63cedc61552a5af99d1f4fb67d367b25f"
  },
  "kernelspec": {
   "display_name": "Python 3.8.8 ('base')",
   "language": "python",
   "name": "python3"
  },
  "language_info": {
   "codemirror_mode": {
    "name": "ipython",
    "version": 3
   },
   "file_extension": ".py",
   "mimetype": "text/x-python",
   "name": "python",
   "nbconvert_exporter": "python",
   "pygments_lexer": "ipython3",
   "version": "3.6.13"
  },
  "orig_nbformat": 4
 },
 "nbformat": 4,
 "nbformat_minor": 2
}
