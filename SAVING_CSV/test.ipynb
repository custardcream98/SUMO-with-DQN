{
 "cells": [
  {
   "cell_type": "code",
   "execution_count": 1,
   "metadata": {},
   "outputs": [],
   "source": [
    "header_temp = [\n",
    "    'sortedCarList',\n",
    "    'queueLength',\n",
    "    'totalWaitingTime',\n",
    "    'avgSpeed',\n",
    "    'avgGapSpace',\n",
    "]\n",
    "HEADERS = []\n",
    "STRAIGHT = 'straight_'\n",
    "RIGHT = 'right_'\n",
    "STRAIGHT_OR_RIGHT = [STRAIGHT, RIGHT]\n",
    "HAT = '_hat'\n",
    "\n",
    "for direction in STRAIGHT_OR_RIGHT:\n",
    "    for header in header_temp:\n",
    "        header = direction + header\n",
    "        HEADERS.append(header)\n",
    "        HEADERS.append(header + HAT)"
   ]
  },
  {
   "cell_type": "code",
   "execution_count": 2,
   "metadata": {},
   "outputs": [
    {
     "data": {
      "text/plain": [
       "['straight_sortedCarList',\n",
       " 'straight_sortedCarList_hat',\n",
       " 'straight_queueLength',\n",
       " 'straight_queueLength_hat',\n",
       " 'straight_totalWaitingTime',\n",
       " 'straight_totalWaitingTime_hat',\n",
       " 'straight_avgSpeed',\n",
       " 'straight_avgSpeed_hat',\n",
       " 'straight_avgGapSpace',\n",
       " 'straight_avgGapSpace_hat',\n",
       " 'right_sortedCarList',\n",
       " 'right_sortedCarList_hat',\n",
       " 'right_queueLength',\n",
       " 'right_queueLength_hat',\n",
       " 'right_totalWaitingTime',\n",
       " 'right_totalWaitingTime_hat',\n",
       " 'right_avgSpeed',\n",
       " 'right_avgSpeed_hat',\n",
       " 'right_avgGapSpace',\n",
       " 'right_avgGapSpace_hat']"
      ]
     },
     "execution_count": 2,
     "metadata": {},
     "output_type": "execute_result"
    }
   ],
   "source": [
    "HEADERS"
   ]
  },
  {
   "cell_type": "code",
   "execution_count": 3,
   "metadata": {},
   "outputs": [
    {
     "data": {
      "text/plain": [
       "20"
      ]
     },
     "execution_count": 3,
     "metadata": {},
     "output_type": "execute_result"
    }
   ],
   "source": [
    "len(HEADERS)"
   ]
  },
  {
   "cell_type": "code",
   "execution_count": null,
   "metadata": {},
   "outputs": [],
   "source": []
  }
 ],
 "metadata": {
  "interpreter": {
   "hash": "958d33ff4d677981163e8fe552db509b926c07bc48e7533144feb063cf69f63b"
  },
  "kernelspec": {
   "display_name": "Python 3.6.13 ('sumo')",
   "language": "python",
   "name": "python3"
  },
  "language_info": {
   "codemirror_mode": {
    "name": "ipython",
    "version": 3
   },
   "file_extension": ".py",
   "mimetype": "text/x-python",
   "name": "python",
   "nbconvert_exporter": "python",
   "pygments_lexer": "ipython3",
   "version": "3.6.13"
  },
  "orig_nbformat": 4
 },
 "nbformat": 4,
 "nbformat_minor": 2
}
